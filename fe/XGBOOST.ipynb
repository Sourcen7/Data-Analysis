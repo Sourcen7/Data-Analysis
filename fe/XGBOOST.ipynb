{
 "cells": [
  {
   "cell_type": "code",
   "execution_count": 1,
   "metadata": {},
   "outputs": [],
   "source": [
    "import pandas as pd\n",
    "import numpy as np\n",
    "\n",
    "import xgboost as xgb\n",
    "\n",
    "\n",
    "\n",
    "\n",
    "\n",
    "train = pd.read_csv('C:/temp/train.tsv', sep='\\t' ,nrows= 1000)\n",
    "#print (train.head())"
   ]
  },
  {
   "cell_type": "code",
   "execution_count": 2,
   "metadata": {},
   "outputs": [],
   "source": [
    "train2=pd.DataFrame(train['brand_name'].str.replace(' ','').replace('.','').str.lower())\n",
    "#print(train2)\n",
    "dum=pd.get_dummies(train2['brand_name'])\n",
    "#print(dum)"
   ]
  },
  {
   "cell_type": "code",
   "execution_count": 3,
   "metadata": {},
   "outputs": [],
   "source": [
    "train['words']=np.where((train['name'].str.lower()).str.find('words')>-1,4,0)+np.where((train['item_description'].str.lower()).str.find('words')>-1,2,0)\n",
    "train['wvuitton']=np.where((train['name'].str.lower()).str.find('vuitton')>-1,4,0)+np.where((train['item_description'].str.lower()).str.find('vuitton')>-1,2,0)\n",
    "train['wlouis']=np.where((train['name'].str.lower()).str.find('louis')>-1,4,0)+np.where((train['item_description'].str.lower()).str.find('louis')>-1,2,0)\n",
    "train['wlv']=np.where((train['name'].str.lower()).str.find('lv')>-1,4,0)+np.where((train['item_description'].str.lower()).str.find('lv')>-1,2,0)\n",
    "train['wsatchel']=np.where((train['name'].str.lower()).str.find('satchel')>-1,4,0)+np.where((train['item_description'].str.lower()).str.find('satchel')>-1,2,0)\n",
    "train['wgucci']=np.where((train['name'].str.lower()).str.find('gucci')>-1,4,0)+np.where((train['item_description'].str.lower()).str.find('gucci')>-1,2,0)\n",
    "train['wburch']=np.where((train['name'].str.lower()).str.find('burch')>-1,4,0)+np.where((train['item_description'].str.lower()).str.find('burch')>-1,2,0)\n",
    "train['wtory']=np.where((train['name'].str.lower()).str.find('tory')>-1,4,0)+np.where((train['item_description'].str.lower()).str.find('tory')>-1,2,0)\n",
    "train['wbeats']=np.where((train['name'].str.lower()).str.find('beats')>-1,4,0)+np.where((train['item_description'].str.lower()).str.find('beats')>-1,2,0)\n",
    "train['wburberry']=np.where((train['name'].str.lower()).str.find('burberry')>-1,4,0)+np.where((train['item_description'].str.lower()).str.find('burberry')>-1,2,0)\n",
    "train['wretro']=np.where((train['name'].str.lower()).str.find('retro')>-1,4,0)+np.where((train['item_description'].str.lower()).str.find('retro')>-1,2,0)\n",
    "train['wtiffany']=np.where((train['name'].str.lower()).str.find('tiffany')>-1,4,0)+np.where((train['item_description'].str.lower()).str.find('tiffany')>-1,2,0)\n",
    "train['wipad']=np.where((train['name'].str.lower()).str.find('ipad')>-1,4,0)+np.where((train['item_description'].str.lower()).str.find('ipad')>-1,2,0)\n",
    "train['wchanel']=np.where((train['name'].str.lower()).str.find('chanel')>-1,4,0)+np.where((train['item_description'].str.lower()).str.find('chanel')>-1,2,0)\n",
    "train['wauthentic']=np.where((train['name'].str.lower()).str.find('authentic')>-1,4,0)+np.where((train['item_description'].str.lower()).str.find('authentic')>-1,2,0)\n",
    "train['w14k']=np.where((train['name'].str.lower()).str.find('14k')>-1,4,0)+np.where((train['item_description'].str.lower()).str.find('14k')>-1,2,0)\n",
    "train['wkendra']=np.where((train['name'].str.lower()).str.find('kendra')>-1,4,0)+np.where((train['item_description'].str.lower()).str.find('kendra')>-1,2,0)\n",
    "train['wlaptop']=np.where((train['name'].str.lower()).str.find('laptop')>-1,4,0)+np.where((train['item_description'].str.lower()).str.find('laptop')>-1,2,0)\n",
    "train['wsarah']=np.where((train['name'].str.lower()).str.find('sarah')>-1,4,0)+np.where((train['item_description'].str.lower()).str.find('sarah')>-1,2,0)\n",
    "train['wjordan']=np.where((train['name'].str.lower()).str.find('jordan')>-1,4,0)+np.where((train['item_description'].str.lower()).str.find('jordan')>-1,2,0)\n",
    "train['wair']=np.where((train['name'].str.lower()).str.find('air')>-1,4,0)+np.where((train['item_description'].str.lower()).str.find('air')>-1,2,0)\n",
    "train['wscott']=np.where((train['name'].str.lower()).str.find('scott')>-1,4,0)+np.where((train['item_description'].str.lower()).str.find('scott')>-1,2,0)\n",
    "train['wapple']=np.where((train['name'].str.lower()).str.find('apple')>-1,4,0)+np.where((train['item_description'].str.lower()).str.find('apple')>-1,2,0)\n",
    "train['wmk']=np.where((train['name'].str.lower()).str.find('mk')>-1,4,0)+np.where((train['item_description'].str.lower()).str.find('mk')>-1,2,0)\n",
    "train['wseries']=np.where((train['name'].str.lower()).str.find('series')>-1,4,0)+np.where((train['item_description'].str.lower()).str.find('series')>-1,2,0)\n",
    "train['wdooney']=np.where((train['name'].str.lower()).str.find('dooney')>-1,4,0)+np.where((train['item_description'].str.lower()).str.find('dooney')>-1,2,0)\n",
    "train['wkors']=np.where((train['name'].str.lower()).str.find('kors')>-1,4,0)+np.where((train['item_description'].str.lower()).str.find('kors')>-1,2,0)\n",
    "train['whandbag']=np.where((train['name'].str.lower()).str.find('handbag')>-1,4,0)+np.where((train['item_description'].str.lower()).str.find('handbag')>-1,2,0)\n",
    "train['wwatch']=np.where((train['name'].str.lower()).str.find('watch')>-1,4,0)+np.where((train['item_description'].str.lower()).str.find('watch')>-1,2,0)\n",
    "train['wremover']=np.where((train['name'].str.lower()).str.find('remover')>-1,4,0)+np.where((train['item_description'].str.lower()).str.find('remover')>-1,2,0)\n",
    "train['wmossimo']=np.where((train['name'].str.lower()).str.find('mossimo')>-1,4,0)+np.where((train['item_description'].str.lower()).str.find('mossimo')>-1,2,0)\n",
    "train['wlashes']=np.where((train['name'].str.lower()).str.find('lashes')>-1,4,0)+np.where((train['item_description'].str.lower()).str.find('lashes')>-1,2,0)\n",
    "train['wkeychain']=np.where((train['name'].str.lower()).str.find('keychain')>-1,4,0)+np.where((train['item_description'].str.lower()).str.find('keychain')>-1,2,0)\n",
    "train['wchargers']=np.where((train['name'].str.lower()).str.find('chargers')>-1,4,0)+np.where((train['item_description'].str.lower()).str.find('chargers')>-1,2,0)\n",
    "train['wearphones']=np.where((train['name'].str.lower()).str.find('earphones')>-1,4,0)+np.where((train['item_description'].str.lower()).str.find('earphones')>-1,2,0)\n",
    "train['wmailers']=np.where((train['name'].str.lower()).str.find('mailers')>-1,4,0)+np.where((train['item_description'].str.lower()).str.find('mailers')>-1,2,0)\n",
    "train['wwet']=np.where((train['name'].str.lower()).str.find('wet')>-1,4,0)+np.where((train['item_description'].str.lower()).str.find('wet')>-1,2,0)\n",
    "train['wnyx']=np.where((train['name'].str.lower()).str.find('nyx')>-1,4,0)+np.where((train['item_description'].str.lower()).str.find('nyx')>-1,2,0)\n",
    "train['wlipgloss']=np.where((train['name'].str.lower()).str.find('lipgloss')>-1,4,0)+np.where((train['item_description'].str.lower()).str.find('lipgloss')>-1,2,0)\n",
    "train['wrue']=np.where((train['name'].str.lower()).str.find('rue')>-1,4,0)+np.where((train['item_description'].str.lower()).str.find('rue')>-1,2,0)\n",
    "train['wfidget']=np.where((train['name'].str.lower()).str.find('fidget')>-1,4,0)+np.where((train['item_description'].str.lower()).str.find('fidget')>-1,2,0)\n",
    "train['wspinner']=np.where((train['name'].str.lower()).str.find('spinner')>-1,4,0)+np.where((train['item_description'].str.lower()).str.find('spinner')>-1,2,0)\n",
    "train['welf']=np.where((train['name'].str.lower()).str.find('elf')>-1,4,0)+np.where((train['item_description'].str.lower()).str.find('elf')>-1,2,0)\n",
    "train['wbelly']=np.where((train['name'].str.lower()).str.find('belly')>-1,4,0)+np.where((train['item_description'].str.lower()).str.find('belly')>-1,2,0)\n",
    "train['weyeliner']=np.where((train['name'].str.lower()).str.find('eyeliner')>-1,4,0)+np.where((train['item_description'].str.lower()).str.find('eyeliner')>-1,2,0)\n",
    "train['weyelashes']=np.where((train['name'].str.lower()).str.find('eyelashes')>-1,4,0)+np.where((train['item_description'].str.lower()).str.find('eyelashes')>-1,2,0)\n",
    "train['wsilicone']=np.where((train['name'].str.lower()).str.find('silicone')>-1,4,0)+np.where((train['item_description'].str.lower()).str.find('silicone')>-1,2,0)\n",
    "train['wprotector']=np.where((train['name'].str.lower()).str.find('protector')>-1,4,0)+np.where((train['item_description'].str.lower()).str.find('protector')>-1,2,0)\n",
    "train['wpolymailers']=np.where((train['name'].str.lower()).str.find('polymailers')>-1,4,0)+np.where((train['item_description'].str.lower()).str.find('polymailers')>-1,2,0)\n",
    "train['wpatch']=np.where((train['name'].str.lower()).str.find('patch')>-1,4,0)+np.where((train['item_description'].str.lower()).str.find('patch')>-1,2,0)\n",
    "train['wmaybelline']=np.where((train['name'].str.lower()).str.find('maybelline')>-1,4,0)+np.where((train['item_description'].str.lower()).str.find('maybelline')>-1,2,0)\n",
    "train['wchoker']=np.where((train['name'].str.lower()).str.find('choker')>-1,4,0)+np.where((train['item_description'].str.lower()).str.find('choker')>-1,2,0)\n",
    "train['wslime']=np.where((train['name'].str.lower()).str.find('slime')>-1,4,0)+np.where((train['item_description'].str.lower()).str.find('slime')>-1,2,0)\n",
    "train['wpopsocket']=np.where((train['name'].str.lower()).str.find('popsocket')>-1,4,0)+np.where((train['item_description'].str.lower()).str.find('popsocket')>-1,2,0)\n",
    "train['wstickers']=np.where((train['name'].str.lower()).str.find('stickers')>-1,4,0)+np.where((train['item_description'].str.lower()).str.find('stickers')>-1,2,0)\n",
    "train['wdecal']=np.where((train['name'].str.lower()).str.find('decal')>-1,4,0)+np.where((train['item_description'].str.lower()).str.find('decal')>-1,2,0)\n",
    "train['wsticker']=np.where((train['name'].str.lower()).str.find('sticker')>-1,4,0)+np.where((train['item_description'].str.lower()).str.find('sticker')>-1,2,0)\n",
    "train['wnose']=np.where((train['name'].str.lower()).str.find('nose')>-1,4,0)+np.where((train['item_description'].str.lower()).str.find('nose')>-1,2,0)\n",
    "train['wdust']=np.where((train['name'].str.lower()).str.find('dust')>-1,4,0)+np.where((train['item_description'].str.lower()).str.find('dust')>-1,2,0)\n",
    "train['wmichael']=np.where((train['name'].str.lower()).str.find('michael')>-1,4,0)+np.where((train['item_description'].str.lower()).str.find('michael')>-1,2,0)\n",
    "train['wugg']=np.where((train['name'].str.lower()).str.find('ugg')>-1,4,0)+np.where((train['item_description'].str.lower()).str.find('ugg')>-1,2,0)\n",
    "train['wcamera']=np.where((train['name'].str.lower()).str.find('camera')>-1,4,0)+np.where((train['item_description'].str.lower()).str.find('camera')>-1,2,0)\n",
    "train['wkate']=np.where((train['name'].str.lower()).str.find('kate')>-1,4,0)+np.where((train['item_description'].str.lower()).str.find('kate')>-1,2,0)\n",
    "train['wbag,']=np.where((train['name'].str.lower()).str.find('bag,')>-1,4,0)+np.where((train['item_description'].str.lower()).str.find('bag,')>-1,2,0)\n",
    "train['wspade']=np.where((train['name'].str.lower()).str.find('spade')>-1,4,0)+np.where((train['item_description'].str.lower()).str.find('spade')>-1,2,0)\n",
    "train['whtf']=np.where((train['name'].str.lower()).str.find('htf')>-1,4,0)+np.where((train['item_description'].str.lower()).str.find('htf')>-1,2,0)\n",
    "train['wtote']=np.where((train['name'].str.lower()).str.find('tote')>-1,4,0)+np.where((train['item_description'].str.lower()).str.find('tote')>-1,2,0)\n",
    "train['wcarly']=np.where((train['name'].str.lower()).str.find('carly')>-1,4,0)+np.where((train['item_description'].str.lower()).str.find('carly')>-1,2,0)\n",
    "train['wcrossbody']=np.where((train['name'].str.lower()).str.find('crossbody')>-1,4,0)+np.where((train['item_description'].str.lower()).str.find('crossbody')>-1,2,0)\n",
    "train['wauthentic.']=np.where((train['name'].str.lower()).str.find('authentic.')>-1,4,0)+np.where((train['item_description'].str.lower()).str.find('authentic.')>-1,2,0)\n",
    "train['wsignature']=np.where((train['name'].str.lower()).str.find('signature')>-1,4,0)+np.where((train['item_description'].str.lower()).str.find('signature')>-1,2,0)\n",
    "train['wtshirt']=np.where((train['name'].str.lower()).str.find('tshirt')>-1,4,0)+np.where((train['item_description'].str.lower()).str.find('tshirt')>-1,2,0)\n",
    "train['wtop.']=np.where((train['name'].str.lower()).str.find('top.')>-1,4,0)+np.where((train['item_description'].str.lower()).str.find('top.')>-1,2,0)\n",
    "train['wsocks']=np.where((train['name'].str.lower()).str.find('socks')>-1,4,0)+np.where((train['item_description'].str.lower()).str.find('socks')>-1,2,0)\n",
    "train['whandmade']=np.where((train['name'].str.lower()).str.find('handmade')>-1,4,0)+np.where((train['item_description'].str.lower()).str.find('handmade')>-1,2,0)\n",
    "train['w3t']=np.where((train['name'].str.lower()).str.find('3t')>-1,4,0)+np.where((train['item_description'].str.lower()).str.find('3t')>-1,2,0)\n",
    "train['wcharlotte']=np.where((train['name'].str.lower()).str.find('charlotte')>-1,4,0)+np.where((train['item_description'].str.lower()).str.find('charlotte')>-1,2,0)\n",
    "train['wblouse']=np.where((train['name'].str.lower()).str.find('blouse')>-1,4,0)+np.where((train['item_description'].str.lower()).str.find('blouse')>-1,2,0)\n",
    "train['welastic']=np.where((train['name'].str.lower()).str.find('elastic')>-1,4,0)+np.where((train['item_description'].str.lower()).str.find('elastic')>-1,2,0)\n",
    "train['wshirt.']=np.where((train['name'].str.lower()).str.find('shirt.')>-1,4,0)+np.where((train['item_description'].str.lower()).str.find('shirt.')>-1,2,0)\n",
    "train['wthin']=np.where((train['name'].str.lower()).str.find('thin')>-1,4,0)+np.where((train['item_description'].str.lower()).str.find('thin')>-1,2,0)\n",
    "train['wforever']=np.where((train['name'].str.lower()).str.find('forever')>-1,4,0)+np.where((train['item_description'].str.lower()).str.find('forever')>-1,2,0)\n",
    "train['wmascara']=np.where((train['name'].str.lower()).str.find('mascara')>-1,4,0)+np.where((train['item_description'].str.lower()).str.find('mascara')>-1,2,0)\n",
    "train['wflowy']=np.where((train['name'].str.lower()).str.find('flowy')>-1,4,0)+np.where((train['item_description'].str.lower()).str.find('flowy')>-1,2,0)\n",
    "train['wsample']=np.where((train['name'].str.lower()).str.find('sample')>-1,4,0)+np.where((train['item_description'].str.lower()).str.find('sample')>-1,2,0)\n",
    "train['w6/6s']=np.where((train['name'].str.lower()).str.find('6/6s')>-1,4,0)+np.where((train['item_description'].str.lower()).str.find('6/6s')>-1,2,0)\n",
    "train['wnail']=np.where((train['name'].str.lower()).str.find('nail')>-1,4,0)+np.where((train['item_description'].str.lower()).str.find('nail')>-1,2,0)\n",
    "train['wcarter']=np.where((train['name'].str.lower()).str.find('carter')>-1,4,0)+np.where((train['item_description'].str.lower()).str.find('carter')>-1,2,0)\n",
    "train['wlanyard']=np.where((train['name'].str.lower()).str.find('lanyard')>-1,4,0)+np.where((train['item_description'].str.lower()).str.find('lanyard')>-1,2,0)\n",
    "train['wpoly']=np.where((train['name'].str.lower()).str.find('poly')>-1,4,0)+np.where((train['item_description'].str.lower()).str.find('poly')>-1,2,0)\n",
    "train['w10x13']=np.where((train['name'].str.lower()).str.find('10x13')>-1,4,0)+np.where((train['item_description'].str.lower()).str.find('10x13')>-1,2,0)\n"
   ]
  },
  {
   "cell_type": "code",
   "execution_count": 4,
   "metadata": {},
   "outputs": [],
   "source": [
    "train1=train.drop(['words'], axis=1)\n",
    "del train\n",
    "#print(train1)\n"
   ]
  },
  {
   "cell_type": "code",
   "execution_count": 5,
   "metadata": {},
   "outputs": [],
   "source": [
    "train3 = pd.concat([train1, dum], axis=1)\n",
    "del dum, train1\n",
    "#print (train3)"
   ]
  },
  {
   "cell_type": "code",
   "execution_count": 6,
   "metadata": {
    "collapsed": true
   },
   "outputs": [],
   "source": [
    "from sklearn.model_selection import train_test_split\n",
    "X = train3.drop(['train_id','price','name','category_name','brand_name','item_description'], axis=1)\n",
    "y = train3['price']\n",
    "X_train, X_test, y_train, y_test = train_test_split(X, y, test_size=0.2, random_state=42)\n"
   ]
  },
  {
   "cell_type": "code",
   "execution_count": 7,
   "metadata": {
    "collapsed": true
   },
   "outputs": [],
   "source": [
    "dtrain = xgb.DMatrix(X_train, label=y_train)\n",
    "dtest = xgb.DMatrix(X_test, label=y_test)"
   ]
  },
  {
   "cell_type": "code",
   "execution_count": 18,
   "metadata": {
    "scrolled": false
   },
   "outputs": [],
   "source": [
    "#print(X.columns.values)"
   ]
  },
  {
   "cell_type": "code",
   "execution_count": null,
   "metadata": {
    "collapsed": true
   },
   "outputs": [],
   "source": []
  },
  {
   "cell_type": "code",
   "execution_count": 16,
   "metadata": {
    "collapsed": true
   },
   "outputs": [],
   "source": [
    "param = {\n",
    "    'max_depth': 30,  # the maximum depth of each tree\n",
    "    'eta': 0.1,  # the training step for each iteration\n",
    "    'silent': 1,  # logging mode - quiet\n",
    "    'objective': 'multi:softprob',  # error evaluation for multiclass training\n",
    "    'num_class': 1000}  # the number of classes that exist in this datset\n",
    "num_round = 50  # the number of training iterations\n"
   ]
  },
  {
   "cell_type": "code",
   "execution_count": 17,
   "metadata": {},
   "outputs": [],
   "source": [
    "bst = xgb.train(param, dtrain, num_round)\n",
    "preds = bst.predict(dtest)"
   ]
  },
  {
   "cell_type": "code",
   "execution_count": 15,
   "metadata": {},
   "outputs": [
    {
     "name": "stdout",
     "output_type": "stream",
     "text": [
      "Numpy array precision: 0.0229211553592\n"
     ]
    },
    {
     "name": "stderr",
     "output_type": "stream",
     "text": [
      "C:\\ProgramData\\Anaconda3\\lib\\site-packages\\sklearn\\metrics\\classification.py:1135: UndefinedMetricWarning: Precision is ill-defined and being set to 0.0 in labels with no predicted samples.\n",
      "  'precision', 'predicted', average, warn_for)\n"
     ]
    }
   ],
   "source": [
    "from sklearn.metrics import precision_score\n",
    "best_preds = np.asarray([np.argmax(line) for line in preds])\n",
    "print (\"Numpy array precision:\", precision_score(y_test, best_preds, average='weighted'))"
   ]
  },
  {
   "cell_type": "code",
   "execution_count": 26,
   "metadata": {},
   "outputs": [],
   "source": [
    "bst.dump_model('dump.raw.txt')"
   ]
  },
  {
   "cell_type": "code",
   "execution_count": null,
   "metadata": {},
   "outputs": [],
   "source": []
  }
 ],
 "metadata": {
  "kernelspec": {
   "display_name": "Python 3",
   "language": "python",
   "name": "python3"
  },
  "language_info": {
   "codemirror_mode": {
    "name": "ipython",
    "version": 3
   },
   "file_extension": ".py",
   "mimetype": "text/x-python",
   "name": "python",
   "nbconvert_exporter": "python",
   "pygments_lexer": "ipython3",
   "version": "3.6.3"
  }
 },
 "nbformat": 4,
 "nbformat_minor": 2
}
