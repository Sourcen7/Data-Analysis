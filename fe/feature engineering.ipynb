{
 "cells": [
  {
   "cell_type": "code",
   "execution_count": 2,
   "metadata": {},
   "outputs": [
    {
     "name": "stdout",
     "output_type": "stream",
     "text": [
      "0.99999932547966835457\r"
     ]
    }
   ],
   "source": [
    "import pandas as pd\n",
    "import numpy as np\n",
    "\n",
    "import xgboost as xgb\n",
    "\n",
    "\n",
    "train = pd.read_csv('C:/temp/train.tsv', sep='\\t')\n",
    "#test = pd.read_csv('C:/temp/test.tsv', sep='\\t')\n",
    "#print(train)\n",
    "#print((train[1:2]['name'].to_string().split())[1:2] )\n",
    "names=train['name']\n",
    "namelist=[]\n",
    "l=len(train)\n",
    "for i in range (l):   #len(train)\n",
    "    print(i/l, end='\\r')\n",
    "    for k in range (len(names[i:i+1].to_string().split())):\n",
    "        namelist.append([(names[i:i+1].to_string().split())[k:k+1],float(train[i:i+1]['price'])]) #,float(train[i:i+1]['price'])\n",
    "\n",
    "#print (namelist) \n",
    "\n",
    "#del train, test, namelist\n"
   ]
  },
  {
   "cell_type": "code",
   "execution_count": 5,
   "metadata": {
    "collapsed": true
   },
   "outputs": [],
   "source": [
    "labels = ['word', 'P']\n",
    "df = pd.DataFrame.from_records(namelist, columns=labels)\n",
    "df.to_csv(r'c:\\temp\\namesfordt.txt', index=None, sep=' ', mode='a')"
   ]
  },
  {
   "cell_type": "code",
   "execution_count": 18,
   "metadata": {},
   "outputs": [
    {
     "name": "stdout",
     "output_type": "stream",
     "text": [
      "         word     P\n",
      "0           0  10.0\n",
      "1         mlb  10.0\n",
      "2  cincinnati  10.0\n",
      "3        reds  10.0\n",
      "4           t  10.0\n"
     ]
    }
   ],
   "source": [
    "import pandas as pd\n",
    "import numpy as np\n",
    "import scipy\n",
    "\n",
    "import xgboost as xgb\n",
    "\n",
    "import gc\n",
    "df22=pd.read_csv(r'c:\\Temp\\namesfordt.txt',delimiter=' ')\n",
    "df21=df22['word'].str.lower()\n",
    "df2 = pd.DataFrame(df21)\n",
    "df2['P']=df22['P']\n",
    "print (df2.head())"
   ]
  },
  {
   "cell_type": "code",
   "execution_count": 32,
   "metadata": {
    "scrolled": true
   },
   "outputs": [
    {
     "name": "stdout",
     "output_type": "stream",
     "text": [
      "           P\n",
      "        mean\n",
      "i           \n",
      "1  27.145703\n"
     ]
    }
   ],
   "source": [
    "mt=df2\n",
    "mt['i']=1\n",
    "ptm=pd.pivot_table(df2, values=['P'], index=['i'], columns=None, aggfunc={np.mean})\n",
    "print(ptm)"
   ]
  },
  {
   "cell_type": "code",
   "execution_count": 33,
   "metadata": {},
   "outputs": [
    {
     "name": "stdout",
     "output_type": "stream",
     "text": [
      "       P\n",
      "  median\n",
      "i       \n",
      "1   17.0\n"
     ]
    }
   ],
   "source": [
    "print(pd.pivot_table(df2, values=['P'], index=['i'], columns=None, aggfunc={np.median}))"
   ]
  },
  {
   "cell_type": "code",
   "execution_count": 19,
   "metadata": {},
   "outputs": [
    {
     "name": "stdout",
     "output_type": "stream",
     "text": [
      "                  P            \n",
      "              count        mean\n",
      "word                           \n",
      "pink          81679   25.009868\n",
      "bundle        72336   32.188316\n",
      "size          71607   25.451583\n",
      "new           68458   29.273693\n",
      "lularoe       63163   36.855153\n",
      "for           58848   30.440168\n",
      "black         53331   26.346618\n",
      "and           46161   26.999263\n",
      "nike          45903   28.471560\n",
      "vs            43333   26.839095\n",
      "secret        40207   22.059480\n",
      "dress         37514   23.093938\n",
      "&             37353   28.189222\n",
      "leggings      37202   30.731950\n",
      "nwt           36151   33.210022\n",
      "set           35010   27.844073\n",
      "top           34632   15.691860\n",
      "free          33404   19.435562\n",
      "2             33156   26.617761\n",
      "shirt         31428   15.695399\n",
      "iphone        29940   31.578373\n",
      "of            25782   22.701614\n",
      "case          25281   14.699992\n",
      "shorts        24361   17.088256\n",
      "[victoria's]  23684   22.143641\n",
      "jeans         21303   22.530958\n",
      "white         20908   25.401760\n",
      "3             20830   25.665723\n",
      "the           20473   21.874444\n",
      "bra           20071   17.954611\n",
      "...             ...         ...\n",
      "194274            1   10.000000\n",
      "194273            1    8.000000\n",
      "194272            1   17.000000\n",
      "194271            1    4.000000\n",
      "194270            1    7.000000\n",
      "194289            1   26.000000\n",
      "194290            1  115.000000\n",
      "194307            1   50.000000\n",
      "1048041           1  132.000000\n",
      "194306            1   36.000000\n",
      "194305            1   11.000000\n",
      "194304            1   45.000000\n",
      "194303            1    8.000000\n",
      "194302            1   60.000000\n",
      "194301            1   75.000000\n",
      "194300            1   28.000000\n",
      "19430             1   29.000000\n",
      "1943-s            1   20.000000\n",
      "1048042           1   26.000000\n",
      "194291            1   17.000000\n",
      "1942s             1   16.000000\n",
      "194299            1   14.000000\n",
      "194298            1   21.000000\n",
      "194297            1   12.000000\n",
      "194296            1   14.000000\n",
      "194295            1   33.000000\n",
      "194294            1   21.000000\n",
      "194293            1   14.000000\n",
      "194292            1   28.000000\n",
      "4/ampoo           1   18.000000\n",
      "\n",
      "[1671803 rows x 2 columns]\n"
     ]
    }
   ],
   "source": [
    "pt=pd.pivot_table(df2, values=['P'], index=['word'], columns=None, aggfunc={np.mean, 'count'})\n",
    "pt2=pt.sort_values(by=[('P', 'count')], ascending=False)\n",
    "print(pt2)"
   ]
  },
  {
   "cell_type": "code",
   "execution_count": 20,
   "metadata": {},
   "outputs": [
    {
     "name": "stdout",
     "output_type": "stream",
     "text": [
      "                   P        \n",
      "               count    mean\n",
      "word                        \n",
      "760469             1  2009.0\n",
      "new-chanel         1  2006.0\n",
      "1262245            1  2006.0\n",
      "1393600            1  2004.0\n",
      "742113             1  2000.0\n",
      "956343             1  2000.0\n",
      "1250053            1  2000.0\n",
      "1445348            1  2000.0\n",
      "778940             1  2000.0\n",
      "vs2/i              1  2000.0\n",
      "415027             1  2000.0\n",
      "952000             1  1999.0\n",
      "h0682              1  1999.0\n",
      "180749             1  1909.0\n",
      "194639             1  1900.0\n",
      "182847             1  1850.0\n",
      "guarenteed         1  1850.0\n",
      "1267555            1  1850.0\n",
      "244054             1  1815.0\n",
      "1227002            1  1815.0\n",
      "449729             1  1808.0\n",
      "645320             1  1806.0\n",
      "607957             1  1806.0\n",
      "897423             1  1800.0\n",
      "667668             1  1800.0\n",
      "1163903            1  1800.0\n",
      "1024458            1  1770.0\n",
      "??watches          1  1770.0\n",
      "145696             1  1759.0\n",
      "1416120            1  1750.0\n",
      "...              ...     ...\n",
      "59299              1     0.0\n",
      "433553             1     0.0\n",
      "137980             1     0.0\n",
      "1089101            1     0.0\n",
      "592982             1     0.0\n",
      "century-styled     1     0.0\n",
      "282595             1     0.0\n",
      "907265             1     0.0\n",
      "469022             1     0.0\n",
      "1197895            1     0.0\n",
      "19909              1     0.0\n",
      "1190971            1     0.0\n",
      "1349678            1     0.0\n",
      "1349538            1     0.0\n",
      "909136             1     0.0\n",
      "1430353            1     0.0\n",
      "guzma              1     0.0\n",
      "1256388            1     0.0\n",
      "33176              1     0.0\n",
      "1321660            1     0.0\n",
      "1355579            1     0.0\n",
      "1081835            1     0.0\n",
      "1420874            1     0.0\n",
      "207105             1     0.0\n",
      "937578             1     0.0\n",
      "870775             1     0.0\n",
      "1321707            1     0.0\n",
      "1321709            1     0.0\n",
      "509511             1     0.0\n",
      "767867             1     0.0\n",
      "\n",
      "[1671803 rows x 2 columns]\n"
     ]
    }
   ],
   "source": [
    "pt3=pt.sort_values(by=[('P', 'mean')], ascending=False)\n",
    "print(pt3)"
   ]
  },
  {
   "cell_type": "code",
   "execution_count": 21,
   "metadata": {},
   "outputs": [
    {
     "name": "stdout",
     "output_type": "stream",
     "text": [
      "                     P        \n",
      "                 count    mean\n",
      "word                          \n",
      "760469               1  2009.0\n",
      "1262245              1  2006.0\n",
      "new-chanel           1  2006.0\n",
      "1393600              1  2004.0\n",
      "1250053              1  2000.0\n",
      "1445348              1  2000.0\n",
      "415027               1  2000.0\n",
      "742113               1  2000.0\n",
      "778940               1  2000.0\n",
      "956343               1  2000.0\n",
      "vs2/i                1  2000.0\n",
      "952000               1  1999.0\n",
      "h0682                1  1999.0\n",
      "180749               1  1909.0\n",
      "194639               1  1900.0\n",
      "1267555              1  1850.0\n",
      "182847               1  1850.0\n",
      "guarenteed           1  1850.0\n",
      "1227002              1  1815.0\n",
      "244054               1  1815.0\n",
      "449729               1  1808.0\n",
      "607957               1  1806.0\n",
      "645320               1  1806.0\n",
      "1163903              1  1800.0\n",
      "667668               1  1800.0\n",
      "897423               1  1800.0\n",
      "1024458              1  1770.0\n",
      "??watches            1  1770.0\n",
      "145696               1  1759.0\n",
      "1416120              1  1750.0\n",
      "...                ...     ...\n",
      "guzma                1     0.0\n",
      "iolanda              1     0.0\n",
      "itdesign             1     0.0\n",
      "kyc                  1     0.0\n",
      "lauder/              1     0.0\n",
      "leather/cowhide      1     0.0\n",
      "leathercoinpurse     1     0.0\n",
      "mimild               1     0.0\n",
      "minf                 1     0.0\n",
      "mk8313               1     0.0\n",
      "mom.of.3             1     0.0\n",
      "mono:                1     0.0\n",
      "mountains/           1     0.0\n",
      "petsling             1     0.0\n",
      "plus,7               1     0.0\n",
      "resurface            1     0.0\n",
      "rsr                  1     0.0\n",
      "sewed                1     0.0\n",
      "shaleibae            1     0.0\n",
      "sillicon             1     0.0\n",
      "skincaring           1     0.0\n",
      "spectators           1     0.0\n",
      "swimsuit\\x16         1     0.0\n",
      "tailgates            1     0.0\n",
      "tasi                 1     0.0\n",
      "taunter              1     0.0\n",
      "tevez                1     0.0\n",
      "tipis?               1     0.0\n",
      "w/22mm               1     0.0\n",
      "you/moonlight        1     0.0\n",
      "\n",
      "[1671803 rows x 2 columns]\n"
     ]
    }
   ],
   "source": [
    "pt4=pt.sort_values(by=[('P', 'mean'),('P', 'count')], ascending=False)\n",
    "print(pt4)"
   ]
  },
  {
   "cell_type": "code",
   "execution_count": 30,
   "metadata": {},
   "outputs": [
    {
     "name": "stdout",
     "output_type": "stream",
     "text": [
      "                 P            \n",
      "             count        mean\n",
      "word                          \n",
      "vuitton       2593  198.151562\n",
      "louis         2726  189.620690\n",
      "lv            1068  102.318352\n",
      "satchel       1175   98.376170\n",
      "gucci         2579   80.892206\n",
      "burch         3499   79.120892\n",
      "tory          3562   78.731892\n",
      "beats         2130   72.273239\n",
      "burberry      1852   72.220842\n",
      "retro         3935   72.127065\n",
      "tiffany       1508   69.601459\n",
      "ipad          2267   69.115130\n",
      "chanel        2772   68.305916\n",
      "authentic     8044   66.684050\n",
      "14k           1989   66.188537\n",
      "kendra        4350   63.889080\n",
      "laptop        1221   63.160524\n",
      "sarah         1861   62.743686\n",
      "jordan       10437   62.329884\n",
      "air           9366   62.262225\n",
      "scott         4547   62.061689\n",
      "apple         6261   61.626737\n",
      "mk            3040   60.389474\n",
      "series        1608   59.222637\n",
      "11            3690   59.061111\n",
      "dooney        1639   58.971324\n",
      "kors         12756   58.616063\n",
      "handbag       2429   58.204199\n",
      "13            2082   57.942843\n",
      "watch         8202   57.867837\n",
      "...            ...         ...\n",
      "remover       1099   12.331665\n",
      "mossimo       1058   12.305293\n",
      "lashes        2321   12.285653\n",
      "keychain      2516   12.197337\n",
      "chargers      1016   12.039370\n",
      "earphones     1078   11.962894\n",
      "mailers       1439   11.815149\n",
      "wet           1363   11.809978\n",
      "nyx           2881   11.631378\n",
      "lipgloss      1058   11.582703\n",
      "[carter's]    1280   11.528125\n",
      "rue           1011   11.381800\n",
      "fidget        2846   11.207836\n",
      "spinner       2503   11.068917\n",
      "elf           1038   11.023121\n",
      "belly         1541   10.877677\n",
      "eyeliner      1849   10.862628\n",
      "eyelashes     1671   10.673549\n",
      "silicone      1616   10.261757\n",
      "protector     1402    9.969686\n",
      "polymailers   1195    9.938912\n",
      "patch         1448    9.903315\n",
      "maybelline    1257    9.104216\n",
      "choker        4257    8.696030\n",
      "slime         4087    7.902863\n",
      "popsocket     1147    7.376635\n",
      "stickers      2866    6.674110\n",
      "decal         1946    6.574512\n",
      "sticker       2204    6.402904\n",
      "nose          1450    5.568276\n",
      "\n",
      "[990 rows x 2 columns]\n"
     ]
    }
   ],
   "source": [
    "print(pt4[pt4[('P', 'count')]>1000])"
   ]
  }
 ],
 "metadata": {
  "kernelspec": {
   "display_name": "Python 3",
   "language": "python",
   "name": "python3"
  },
  "language_info": {
   "codemirror_mode": {
    "name": "ipython",
    "version": 3
   },
   "file_extension": ".py",
   "mimetype": "text/x-python",
   "name": "python",
   "nbconvert_exporter": "python",
   "pygments_lexer": "ipython3",
   "version": "3.6.3"
  }
 },
 "nbformat": 4,
 "nbformat_minor": 2
}
