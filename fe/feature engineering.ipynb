{
 "cells": [
  {
   "cell_type": "code",
   "execution_count": 2,
   "metadata": {},
   "outputs": [
    {
     "name": "stdout",
     "output_type": "stream",
     "text": [
      "0.99999932547966835457\r"
     ]
    },
    {
     "name": "stderr",
     "output_type": "stream",
     "text": [
      "IOPub data rate exceeded.\n",
      "The notebook server will temporarily stop sending output\n",
      "to the client in order to avoid crashing it.\n",
      "To change this limit, set the config variable\n",
      "`--NotebookApp.iopub_data_rate_limit`.\n"
     ]
    }
   ],
   "source": [
    "import pandas as pd\n",
    "import numpy as np\n",
    "import scipy\n",
    "\n",
    "import xgboost as xgb\n",
    "\n",
    "import gc\n",
    "\n",
    "NUM_BRANDS = 2500\n",
    "NAME_MIN_DF = 10\n",
    "MAX_FEAT_DESCP = 50000\n",
    "\n",
    "\n",
    "\n",
    "train = pd.read_csv('C:/temp/train.tsv', sep='\\t')\n",
    "#test = pd.read_csv('C:/temp/test.tsv', sep='\\t')\n",
    "#print(train)\n",
    "#print((train[1:2]['name'].to_string().split())[1:2] )\n",
    "names=train['name']\n",
    "namelist=[]\n",
    "l=len(train)\n",
    "for i in range (l):   #len(train)\n",
    "    print(i/l, end='\\r')\n",
    "    for k in range (len(names[i:i+1].to_string().split())):\n",
    "        namelist.append([(names[i:i+1].to_string().split())[k:k+1],float(train[i:i+1]['price'])]) #,float(train[i:i+1]['price'])\n",
    "\n",
    "print (namelist) \n",
    "\n",
    "#del train, test, namelist\n"
   ]
  },
  {
   "cell_type": "code",
   "execution_count": null,
   "metadata": {},
   "outputs": [],
   "source": [
    "df = pd.DataFrame(namelist)\n",
    "\n",
    "\n",
    "def myfunc(col):\n",
    "    return np.sum(col)\n",
    "\n",
    "\n",
    "\n",
    "print (df.apply(myfunc))\n",
    "                          "
   ]
  }
 ],
 "metadata": {
  "kernelspec": {
   "display_name": "Python 3",
   "language": "python",
   "name": "python3"
  }
 },
 "nbformat": 4,
 "nbformat_minor": 2
}
